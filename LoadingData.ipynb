{
  "nbformat": 4,
  "nbformat_minor": 0,
  "metadata": {
    "kernelspec": {
      "display_name": "Python 3",
      "language": "python",
      "name": "python3"
    },
    "language_info": {
      "codemirror_mode": {
        "name": "ipython",
        "version": 3
      },
      "file_extension": ".py",
      "mimetype": "text/x-python",
      "name": "python",
      "nbconvert_exporter": "python",
      "pygments_lexer": "ipython3",
      "version": "3.6.8"
    },
    "colab": {
      "name": "LoadingData.ipynb",
      "provenance": [],
      "include_colab_link": true
    }
  },
  "cells": [
    {
      "cell_type": "markdown",
      "metadata": {
        "id": "view-in-github",
        "colab_type": "text"
      },
      "source": [
        "<a href=\"https://colab.research.google.com/github/chenzhaograce/data-analysis/blob/main/LoadingData.ipynb\" target=\"_parent\"><img src=\"https://colab.research.google.com/assets/colab-badge.svg\" alt=\"Open In Colab\"/></a>"
      ]
    },
    {
      "cell_type": "markdown",
      "metadata": {
        "id": "mdmaXt5xDJj9"
      },
      "source": [
        "# Loading Data in Python\n",
        "\n",
        "0. Manually loading a file.\n",
        "1. Using `np.loadtxt`\n",
        "2. Using `np.genfromtxt`\n",
        "3. Using `pd.read_csv`\n",
        "4. Using `pickle`"
      ]
    },
    {
      "cell_type": "code",
      "metadata": {
        "id": "Wns9bO3uDJj-"
      },
      "source": [
        "import numpy as np\n",
        "import pickle\n",
        "import pandas as pd\n",
        "filename = \"load.csv\""
      ],
      "execution_count": null,
      "outputs": []
    },
    {
      "cell_type": "markdown",
      "metadata": {
        "id": "MADdIdkGDJj_"
      },
      "source": [
        "Please try and never manually load a file in. For your own sanity."
      ]
    },
    {
      "cell_type": "code",
      "metadata": {
        "id": "iDPAi9ICDJj_",
        "outputId": "5cbaeb38-0a62-43bc-a049-dae5811f087a"
      },
      "source": [
        "cols = None\n",
        "data = []\n",
        "with open(filename) as f:\n",
        "    for line in f.readlines():\n",
        "        vals = line.replace(\"\\n\", \"\").split(\",\")\n",
        "        if cols is None:\n",
        "            cols = vals\n",
        "        else:\n",
        "            data.append([float(x) for x in vals])\n",
        "d0 = pd.DataFrame(data, columns=cols)\n",
        "print(d0.dtypes)\n",
        "d0.head()"
      ],
      "execution_count": null,
      "outputs": [
        {
          "output_type": "stream",
          "text": [
            "A    float64\n",
            "B    float64\n",
            "C    float64\n",
            "D    float64\n",
            "E    float64\n",
            "dtype: object\n"
          ],
          "name": "stdout"
        },
        {
          "output_type": "execute_result",
          "data": {
            "text/html": [
              "<div>\n",
              "<style scoped>\n",
              "    .dataframe tbody tr th:only-of-type {\n",
              "        vertical-align: middle;\n",
              "    }\n",
              "\n",
              "    .dataframe tbody tr th {\n",
              "        vertical-align: top;\n",
              "    }\n",
              "\n",
              "    .dataframe thead th {\n",
              "        text-align: right;\n",
              "    }\n",
              "</style>\n",
              "<table border=\"1\" class=\"dataframe\">\n",
              "  <thead>\n",
              "    <tr style=\"text-align: right;\">\n",
              "      <th></th>\n",
              "      <th>A</th>\n",
              "      <th>B</th>\n",
              "      <th>C</th>\n",
              "      <th>D</th>\n",
              "      <th>E</th>\n",
              "    </tr>\n",
              "  </thead>\n",
              "  <tbody>\n",
              "    <tr>\n",
              "      <th>0</th>\n",
              "      <td>1.276</td>\n",
              "      <td>21.400</td>\n",
              "      <td>63.957</td>\n",
              "      <td>216.204</td>\n",
              "      <td>528.0</td>\n",
              "    </tr>\n",
              "    <tr>\n",
              "      <th>1</th>\n",
              "      <td>1.002</td>\n",
              "      <td>21.950</td>\n",
              "      <td>61.697</td>\n",
              "      <td>204.484</td>\n",
              "      <td>514.0</td>\n",
              "    </tr>\n",
              "    <tr>\n",
              "      <th>2</th>\n",
              "      <td>1.114</td>\n",
              "      <td>22.454</td>\n",
              "      <td>63.522</td>\n",
              "      <td>205.608</td>\n",
              "      <td>514.0</td>\n",
              "    </tr>\n",
              "    <tr>\n",
              "      <th>3</th>\n",
              "      <td>1.133</td>\n",
              "      <td>22.494</td>\n",
              "      <td>61.590</td>\n",
              "      <td>206.565</td>\n",
              "      <td>501.0</td>\n",
              "    </tr>\n",
              "    <tr>\n",
              "      <th>4</th>\n",
              "      <td>0.845</td>\n",
              "      <td>21.654</td>\n",
              "      <td>63.729</td>\n",
              "      <td>201.289</td>\n",
              "      <td>532.0</td>\n",
              "    </tr>\n",
              "  </tbody>\n",
              "</table>\n",
              "</div>"
            ],
            "text/plain": [
              "       A       B       C        D      E\n",
              "0  1.276  21.400  63.957  216.204  528.0\n",
              "1  1.002  21.950  61.697  204.484  514.0\n",
              "2  1.114  22.454  63.522  205.608  514.0\n",
              "3  1.133  22.494  61.590  206.565  501.0\n",
              "4  0.845  21.654  63.729  201.289  532.0"
            ]
          },
          "metadata": {
            "tags": []
          },
          "execution_count": 2
        }
      ]
    },
    {
      "cell_type": "markdown",
      "metadata": {
        "id": "Et34MHG7DJkB"
      },
      "source": [
        "### np.loadtxt\n",
        "\n",
        "Good for simple data arrays with minimal formatting. Ie like data saved out using `np.savetxt`."
      ]
    },
    {
      "cell_type": "code",
      "metadata": {
        "id": "P7yaIPHFDJkB",
        "outputId": "bc9a5262-a946-45e0-e55b-9681def0f940"
      },
      "source": [
        "d1 = np.loadtxt(filename, skiprows=1, delimiter=\",\")\n",
        "print(d1.dtype)\n",
        "print(d1[:5, :])"
      ],
      "execution_count": null,
      "outputs": [
        {
          "output_type": "stream",
          "text": [
            "float64\n",
            "[[  1.276  21.4    63.957 216.204 528.   ]\n",
            " [  1.002  21.95   61.697 204.484 514.   ]\n",
            " [  1.114  22.454  63.522 205.608 514.   ]\n",
            " [  1.133  22.494  61.59  206.565 501.   ]\n",
            " [  0.845  21.654  63.729 201.289 532.   ]]\n"
          ],
          "name": "stdout"
        }
      ]
    },
    {
      "cell_type": "markdown",
      "metadata": {
        "id": "MBG4Zh3mDJkB"
      },
      "source": [
        "### np.genfromtxt\n",
        "\n",
        "A more flexible version of loadtxt with far better parsing. Supports different types, named columns and more."
      ]
    },
    {
      "cell_type": "code",
      "metadata": {
        "id": "rNtLgTRtDJkB",
        "outputId": "8678dbe3-2e80-4db9-8a92-843d3db6960a"
      },
      "source": [
        "d2 = np.genfromtxt(filename, delimiter=\",\", names=True, dtype=None)\n",
        "print(d2.dtype)\n",
        "print(d2[:5])"
      ],
      "execution_count": null,
      "outputs": [
        {
          "output_type": "stream",
          "text": [
            "[('A', '<f8'), ('B', '<f8'), ('C', '<f8'), ('D', '<f8'), ('E', '<i8')]\n",
            "[(1.276, 21.4  , 63.957, 216.204, 528)\n",
            " (1.002, 21.95 , 61.697, 204.484, 514)\n",
            " (1.114, 22.454, 63.522, 205.608, 514)\n",
            " (1.133, 22.494, 61.59 , 206.565, 501)\n",
            " (0.845, 21.654, 63.729, 201.289, 532)]\n"
          ],
          "name": "stdout"
        }
      ]
    },
    {
      "cell_type": "markdown",
      "metadata": {
        "id": "hBrBVbWdDJkB"
      },
      "source": [
        "### pandas.read_csv\n",
        "\n",
        "By far the best and most flexible CSV/txt file reader. Highly, highly recommended. If you don't believe me, just look at the [obscene number of arguments you can parse to read_csv in the documentation](https://pandas.pydata.org/pandas-docs/stable/reference/api/pandas.read_csv.html)."
      ]
    },
    {
      "cell_type": "code",
      "metadata": {
        "id": "yZMLNni4DJkB",
        "outputId": "8a64d9ca-3df7-44ee-8355-ff1878533cec"
      },
      "source": [
        "d3 = pd.read_csv(filename)\n",
        "print(d3.dtypes)\n",
        "d3.head()"
      ],
      "execution_count": null,
      "outputs": [
        {
          "output_type": "stream",
          "text": [
            "A    float64\n",
            "B    float64\n",
            "C    float64\n",
            "D    float64\n",
            "E      int64\n",
            "dtype: object\n"
          ],
          "name": "stdout"
        },
        {
          "output_type": "execute_result",
          "data": {
            "text/html": [
              "<div>\n",
              "<style scoped>\n",
              "    .dataframe tbody tr th:only-of-type {\n",
              "        vertical-align: middle;\n",
              "    }\n",
              "\n",
              "    .dataframe tbody tr th {\n",
              "        vertical-align: top;\n",
              "    }\n",
              "\n",
              "    .dataframe thead th {\n",
              "        text-align: right;\n",
              "    }\n",
              "</style>\n",
              "<table border=\"1\" class=\"dataframe\">\n",
              "  <thead>\n",
              "    <tr style=\"text-align: right;\">\n",
              "      <th></th>\n",
              "      <th>A</th>\n",
              "      <th>B</th>\n",
              "      <th>C</th>\n",
              "      <th>D</th>\n",
              "      <th>E</th>\n",
              "    </tr>\n",
              "  </thead>\n",
              "  <tbody>\n",
              "    <tr>\n",
              "      <th>0</th>\n",
              "      <td>1.276</td>\n",
              "      <td>21.400</td>\n",
              "      <td>63.957</td>\n",
              "      <td>216.204</td>\n",
              "      <td>528</td>\n",
              "    </tr>\n",
              "    <tr>\n",
              "      <th>1</th>\n",
              "      <td>1.002</td>\n",
              "      <td>21.950</td>\n",
              "      <td>61.697</td>\n",
              "      <td>204.484</td>\n",
              "      <td>514</td>\n",
              "    </tr>\n",
              "    <tr>\n",
              "      <th>2</th>\n",
              "      <td>1.114</td>\n",
              "      <td>22.454</td>\n",
              "      <td>63.522</td>\n",
              "      <td>205.608</td>\n",
              "      <td>514</td>\n",
              "    </tr>\n",
              "    <tr>\n",
              "      <th>3</th>\n",
              "      <td>1.133</td>\n",
              "      <td>22.494</td>\n",
              "      <td>61.590</td>\n",
              "      <td>206.565</td>\n",
              "      <td>501</td>\n",
              "    </tr>\n",
              "    <tr>\n",
              "      <th>4</th>\n",
              "      <td>0.845</td>\n",
              "      <td>21.654</td>\n",
              "      <td>63.729</td>\n",
              "      <td>201.289</td>\n",
              "      <td>532</td>\n",
              "    </tr>\n",
              "  </tbody>\n",
              "</table>\n",
              "</div>"
            ],
            "text/plain": [
              "       A       B       C        D    E\n",
              "0  1.276  21.400  63.957  216.204  528\n",
              "1  1.002  21.950  61.697  204.484  514\n",
              "2  1.114  22.454  63.522  205.608  514\n",
              "3  1.133  22.494  61.590  206.565  501\n",
              "4  0.845  21.654  63.729  201.289  532"
            ]
          },
          "metadata": {
            "tags": []
          },
          "execution_count": 5
        }
      ]
    },
    {
      "cell_type": "markdown",
      "metadata": {
        "id": "vik8RTHRDJkC"
      },
      "source": [
        "### pickle\n",
        "\n",
        "For when your data or object is not a nice 2D array and harder to save as something human readable. Note that if you just have a 3D, 4D... ND array of all the same type, you can also use `np.save` which will save an arbitrary numpy array in binary format. Super quick to save, super quick to load in, and small file size.\n",
        "\n",
        "Pickle is for everything that is more complicated. You can save dictionaries, arrays, even objects."
      ]
    },
    {
      "cell_type": "code",
      "metadata": {
        "id": "Hq2dwtL1DJkC",
        "outputId": "1f0bd5a3-9e03-409f-d46b-4961ec958dbd"
      },
      "source": [
        "with open(\"load_pickle.pickle\", \"rb\") as f:\n",
        "    d4 = pickle.load(f)\n",
        "print(d4.dtypes)\n",
        "d4.head()"
      ],
      "execution_count": null,
      "outputs": [
        {
          "output_type": "stream",
          "text": [
            "A    float64\n",
            "B    float64\n",
            "C    float64\n",
            "D    float64\n",
            "E      int32\n",
            "dtype: object\n"
          ],
          "name": "stdout"
        },
        {
          "output_type": "execute_result",
          "data": {
            "text/html": [
              "<div>\n",
              "<style scoped>\n",
              "    .dataframe tbody tr th:only-of-type {\n",
              "        vertical-align: middle;\n",
              "    }\n",
              "\n",
              "    .dataframe tbody tr th {\n",
              "        vertical-align: top;\n",
              "    }\n",
              "\n",
              "    .dataframe thead th {\n",
              "        text-align: right;\n",
              "    }\n",
              "</style>\n",
              "<table border=\"1\" class=\"dataframe\">\n",
              "  <thead>\n",
              "    <tr style=\"text-align: right;\">\n",
              "      <th></th>\n",
              "      <th>A</th>\n",
              "      <th>B</th>\n",
              "      <th>C</th>\n",
              "      <th>D</th>\n",
              "      <th>E</th>\n",
              "    </tr>\n",
              "  </thead>\n",
              "  <tbody>\n",
              "    <tr>\n",
              "      <th>0</th>\n",
              "      <td>1.276405</td>\n",
              "      <td>21.400157</td>\n",
              "      <td>63.957476</td>\n",
              "      <td>216.204466</td>\n",
              "      <td>528</td>\n",
              "    </tr>\n",
              "    <tr>\n",
              "      <th>1</th>\n",
              "      <td>1.002272</td>\n",
              "      <td>21.950088</td>\n",
              "      <td>61.697286</td>\n",
              "      <td>204.483906</td>\n",
              "      <td>514</td>\n",
              "    </tr>\n",
              "    <tr>\n",
              "      <th>2</th>\n",
              "      <td>1.114404</td>\n",
              "      <td>22.454274</td>\n",
              "      <td>63.522075</td>\n",
              "      <td>205.608375</td>\n",
              "      <td>514</td>\n",
              "    </tr>\n",
              "    <tr>\n",
              "      <th>3</th>\n",
              "      <td>1.133367</td>\n",
              "      <td>22.494079</td>\n",
              "      <td>61.589683</td>\n",
              "      <td>206.565339</td>\n",
              "      <td>501</td>\n",
              "    </tr>\n",
              "    <tr>\n",
              "      <th>4</th>\n",
              "      <td>0.844701</td>\n",
              "      <td>21.653619</td>\n",
              "      <td>63.728872</td>\n",
              "      <td>201.289175</td>\n",
              "      <td>532</td>\n",
              "    </tr>\n",
              "  </tbody>\n",
              "</table>\n",
              "</div>"
            ],
            "text/plain": [
              "          A          B          C           D    E\n",
              "0  1.276405  21.400157  63.957476  216.204466  528\n",
              "1  1.002272  21.950088  61.697286  204.483906  514\n",
              "2  1.114404  22.454274  63.522075  205.608375  514\n",
              "3  1.133367  22.494079  61.589683  206.565339  501\n",
              "4  0.844701  21.653619  63.728872  201.289175  532"
            ]
          },
          "metadata": {
            "tags": []
          },
          "execution_count": 6
        }
      ]
    }
  ]
}